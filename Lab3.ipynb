{
  "nbformat": 4,
  "nbformat_minor": 0,
  "metadata": {
    "colab": {
      "provenance": [],
      "include_colab_link": true
    },
    "kernelspec": {
      "name": "python3",
      "display_name": "Python 3"
    },
    "language_info": {
      "name": "python"
    }
  },
  "cells": [
    {
      "cell_type": "markdown",
      "metadata": {
        "id": "view-in-github",
        "colab_type": "text"
      },
      "source": [
        "<a href=\"https://colab.research.google.com/github/2403A54L01/AI-DS/blob/main/Lab3.ipynb\" target=\"_parent\"><img src=\"https://colab.research.google.com/assets/colab-badge.svg\" alt=\"Open In Colab\"/></a>"
      ]
    },
    {
      "cell_type": "code",
      "execution_count": null,
      "metadata": {
        "id": "97hl2r_g6ure"
      },
      "outputs": [],
      "source": []
    },
    {
      "cell_type": "code",
      "source": [
        "from google.colab import drive\n",
        "drive.mount('/content/drive')"
      ],
      "metadata": {
        "colab": {
          "base_uri": "https://localhost:8080/"
        },
        "id": "okDoFuR06ywk",
        "outputId": "8cc3b5a3-e14a-4a1e-d8e9-298a1c58fe1a"
      },
      "execution_count": null,
      "outputs": [
        {
          "output_type": "stream",
          "name": "stdout",
          "text": [
            "Mounted at /content/drive\n"
          ]
        }
      ]
    },
    {
      "cell_type": "code",
      "source": [
        "from copy import deepcopy\n",
        "import numpy as np\n",
        "import time"
      ],
      "metadata": {
        "id": "W_IbVW_K7AnP"
      },
      "execution_count": null,
      "outputs": []
    },
    {
      "cell_type": "code",
      "source": [
        "def bestsolution(state):\n",
        "    bestsol = np.array([],int).reshape(-1,9)\n",
        "    count = len(state) - 1\n",
        "    while count != -1:\n",
        "        bestsol = np.insert(bestsol,0,state[count]['puzzle'],0)\n",
        "        cunt = state[count]['parent']\n",
        "        return bestsol.reshape(-1,3,3)"
      ],
      "metadata": {
        "id": "H8mbfp7WE5im"
      },
      "execution_count": null,
      "outputs": []
    },
    {
      "cell_type": "code",
      "source": [
        "def all(checkarray):\n",
        "  set=[]\n",
        "  for it in set:\n",
        "    for checkarray in it:\n",
        "      return 1\n",
        "    else:\n",
        "        return 0"
      ],
      "metadata": {
        "id": "mqg76IB_GMRY"
      },
      "execution_count": null,
      "outputs": []
    },
    {
      "cell_type": "code",
      "source": [
        "def misplaced_tiles(puzzle,goal):\n",
        "\n",
        "  mscost = np.sum(puzzle != goal) - 1\n",
        "\n",
        "  return mscost if mscost > 0 else 0"
      ],
      "metadata": {
        "id": "JBPT8_GwG1OL"
      },
      "execution_count": null,
      "outputs": []
    },
    {
      "cell_type": "code",
      "source": [
        "def coordinates(puzzle):\n",
        "   pos = np.array(range(9))\n",
        "   for p, q in enumerate(puzzle):\n",
        "     pos[q]=p\n",
        "     return pos\n"
      ],
      "metadata": {
        "id": "_jfhCvsoHc3d"
      },
      "execution_count": null,
      "outputs": []
    },
    {
      "cell_type": "code",
      "source": [
        "def evaluvate_misplaced(puzzle,goal):\n",
        "      steps = np.array([\n",
        "          ('up',[0,1,2],-3),\n",
        "          ('down',[6,7,8],3),\n",
        "          ('left',[0,3,6],-1),\n",
        "          ('right',[2,5,8],1)\n",
        "      ],dtype=[('move',str,1),('position',list),('head',int)])\n",
        "\n",
        "      dtstate = [('puzzle',list),('parent',int),('gn',int),('hn',int)]\n",
        "\n",
        "      cost = coordinates(goal)\n",
        "      parent = -1\n",
        "      gn = 0\n",
        "      hn = misplaced_tiles(coordinates(puzzle),costg)\n",
        "      state = np.array([(puzzle,parent,gn,hn)],dstate)\n",
        "\n",
        "      dtpriority = [('position',int),('fn',int)]\n",
        "      priority = np.array([(0,hn)],dtpriority)\n",
        "      while True:\n",
        "        priority = np.sort(priority, kind='mergesort',order=['fn','position'])\n",
        "        position, fn = priority[0]\n",
        "        priority = np.delete(priority,0,0)\n",
        "        puzzle, parent, gn, hn = state[position]\n",
        "        puzzle = np.array(puzzle)\n",
        "        blank = int(np.where(puzzle == 0)[0])\n",
        "        gn = gn + 1\n",
        "        c = 1\n",
        "        start_time = time.time()\n",
        "        for s in steps:\n",
        "          c = c + 1\n",
        "          if blank not in s['position']:\n",
        "            openstates = deepcopy(puzzle)\n",
        "            openstates[blank], openstates[blank + s['head']] = openstates[blank + s['head']], openstates[blank]\n",
        "            if not (np.all(list(state['puzzle']) == openstates, 1)).any():\n",
        "              end_time = time.time()\n",
        "              if ((end_time - start_time) > 2):\n",
        "                print(\"The 8-puzzle is unsolvable\\n\")\n",
        "                break"
      ],
      "metadata": {
        "id": "XctnAtPjIcfh"
      },
      "execution_count": null,
      "outputs": []
    }
  ]
}